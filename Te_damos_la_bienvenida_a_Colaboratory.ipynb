{
  "cells": [
    {
      "cell_type": "markdown",
      "metadata": {
        "id": "view-in-github",
        "colab_type": "text"
      },
      "source": [
        "<a href=\"https://colab.research.google.com/github/JoseLobos/conversores/blob/main/Te_damos_la_bienvenida_a_Colaboratory.ipynb\" target=\"_parent\"><img src=\"https://colab.research.google.com/assets/colab-badge.svg\" alt=\"Open In Colab\"/></a>"
      ]
    },
    {
      "cell_type": "markdown",
      "source": [
        "Calcular sobre el sueldo las deducciones por ley ISSS (3%), AFP( 6.25%), ISR(Según tabla) e imprima el total deducciones \n",
        "y sueldo neto. (20%)"
      ],
      "metadata": {
        "id": "9BwiMUwXaulg"
      }
    },
    {
      "cell_type": "code",
      "source": [
        "#Calcular las deducciones\n",
        "sueldo= float(input(\"Escriba su sueldo:\"))\n",
        "deducciones= [3,6,25,27]\n",
        "\n",
        "ISSS=(sueldo*deducciones[0])/100\n",
        "AFP=(sueldo*deducciones[1])/100\n",
        "ISR=(sueldo*deducciones[2])/100\n",
        "totaldescuentos= ISSS+AFP+ISR\n",
        "Total=sueldo-totaldescuentos\n",
        "print(\"**Deducciones**\")\n",
        "print(\"ISSS:\",ISSS)\n",
        "print(\"AFP:\",AFP)\n",
        "print(\"ISR:\",ISR)\n",
        "print(\"**sueldo total**\")\n",
        "print(\"Sueldo Neto:\", Total)"
      ],
      "metadata": {
        "id": "bSRr7l82a4zt",
        "outputId": "89c7da16-edf1-4726-fd0e-828609142fa4",
        "colab": {
          "base_uri": "https://localhost:8080/"
        }
      },
      "execution_count": null,
      "outputs": [
        {
          "output_type": "stream",
          "name": "stdout",
          "text": [
            "Escriba su sueldo:500\n",
            "**Deducciones**\n",
            "ISSS: 15.0\n",
            "AFP: 30.0\n",
            "ISR: 125.0\n",
            "**sueldo total**\n",
            "Sueldo Neto: 330.0\n"
          ]
        }
      ]
    },
    {
      "cell_type": "markdown",
      "source": [
        "Calcular el valor a pagar según el número de metros consumidos de agua potable (Ver tabla en la siguiente diapositiva). \n",
        "(20%)"
      ],
      "metadata": {
        "id": "EvmaXdK4iD3b"
      }
    },
    {
      "cell_type": "code",
      "source": [
        "metros_consumidos= int( input(\"ingrese la cantidad de metros consumidos:\"))\n",
        "\n",
        "def mc(a):\n",
        "\n",
        "  if a<=18: \n",
        "\n",
        "    print(\"El valor a pagar segun los metros consumidos es de: $6.00\")\n",
        "\n",
        "  elif a<=28:\n",
        "\n",
        "    excesom= float(a-18) \n",
        "\n",
        "    m= excesom*0.45\n",
        "\n",
        "    total=m+6.00\n",
        "\n",
        "    print(\"El valor a pagar segun los metros consumidos es de: \", total)\n",
        "\n",
        "  else:\n",
        "\n",
        "    exce= float(a-28)\n",
        "\n",
        "    c= exce*0.65\n",
        "\n",
        "    total1=c+10.5\n",
        "\n",
        "    print(\"El valor a pagar los metros consumidos es de:\", total1)\n",
        "\n",
        "\n",
        "\n",
        "print(mc(metros_consumidos))"
      ],
      "metadata": {
        "id": "THXkZ1VRiHe_",
        "outputId": "a1873c58-402f-4c78-c19e-0ab125783af2",
        "colab": {
          "base_uri": "https://localhost:8080/"
        }
      },
      "execution_count": 12,
      "outputs": [
        {
          "output_type": "stream",
          "name": "stdout",
          "text": [
            "ingrese la cantidad de metros consumidos:30\n",
            "El valor a pagar los metros consumidos es de: 11.8\n",
            "None\n"
          ]
        }
      ]
    },
    {
      "cell_type": "markdown",
      "source": [
        "Conversores: (40%) (10 ítems como mínimo por cada uno)"
      ],
      "metadata": {
        "id": "ncYYsUC8bBvg"
      }
    },
    {
      "cell_type": "markdown",
      "source": [
        "Conversor de Monedas"
      ],
      "metadata": {
        "id": "FgPiG0Bp6YAA"
      }
    },
    {
      "cell_type": "code",
      "source": [
        "menu = [\"Seleccione una divisa\", \"Dolares\", \n",
        "           \"Quetzalez\", \"Lempiras\", \"Cordobas\", \n",
        "           \"Pesos CR\", \"Euros\", \"Colon SV\", \n",
        "           \"Yenes\", \"Soles Peruanos\",\"Dolar Canadiense\"\n",
        "]\n",
        "valores = [0,1, 7.71, 24.51, 35.77, 664.64, 0.98, 8.75, 134.13, 3.84,1.30]\n",
        "def convertir(de, a, cantidad):\n",
        "  return valores [a] / valores [de] * cantidad\n",
        "\n",
        "print(\"*** MENU ***\")\n",
        "print(\"SELECCIONE UNA OPCION\")\n",
        "print(\"1. Dolares\")\n",
        "print(\"2. Quetzalez\")\n",
        "print(\"3. Lempiras\")\n",
        "print(\"4. Cordobas\")\n",
        "print(\"5. Pesos CR\")\n",
        "print(\"6. Euros\")\n",
        "print(\"7. Colon SV\")\n",
        "print(\"8. Yenes\")\n",
        "print(\"9. Soles Peruanos\")\n",
        "print(\"10. Dolar Canadiense10\")\n",
        "\n",
        "de = int(input(\"DE: \"))\n",
        "a = int(input(\"A: \"))\n",
        "cantidad = float(input(\"Cantidad: \"))\n",
        "\n",
        "print( menu[de],  \" a \", menu[a], \" La conversion es: \", convertir(de, a, cantidad) )\n",
        "\n",
        "  "
      ],
      "metadata": {
        "id": "jBwcKx4i6ce7",
        "outputId": "2b821c18-efee-4009-fd55-a5144a0c88d2",
        "colab": {
          "base_uri": "https://localhost:8080/"
        }
      },
      "execution_count": null,
      "outputs": [
        {
          "output_type": "stream",
          "name": "stdout",
          "text": [
            "*** MENU ***\n",
            "SELECCIONE UNA OPCION\n",
            "1. Dolares\n",
            "2. Quetzalez\n",
            "3. Lempiras\n",
            "4. Cordobas\n",
            "5. Pesos CR\n",
            "6. Euros\n",
            "7. Colon SV\n",
            "8. Yenes\n",
            "9. Soles Peruanos\n",
            "10. Dolar Canadiense10\n",
            "DE: 1\n",
            "A: 2\n",
            "Cantidad: 1\n",
            "Dolares  a  Quetzalez  La conversion es:  7.71\n"
          ]
        }
      ]
    },
    {
      "cell_type": "markdown",
      "source": [
        "Conversor de Longitud"
      ],
      "metadata": {
        "id": "mmVhqXp2-m7r"
      }
    },
    {
      "cell_type": "code",
      "source": [
        "menu = [\"Seleccione una divisa\", \"metro\", \n",
        "           \"kilometro\", \"centimetros\", \"milimetro\", \n",
        "           \"yarda\", \"pie\", \"pulgadas\", \n",
        "           \"milla\", \"Milla nautica\", 'nanometro',\n",
        "]\n",
        "valores = [0,1, 0.001, 100, 1000, 1.09361, 3.28084, 39.3701, 0.000621371,0.000539957,1e+9 ]\n",
        "def convertir(de, a, cantidad):\n",
        "  return valores [de] / valores [a] * cantidad\n",
        "  print(\"*** MENU ***\")\n",
        "print(\"SELECCIONE UNA OPCION\")\n",
        "print(\"1. metro\")\n",
        "print(\"2. Kilometro\")\n",
        "print(\"3. centimetros\")\n",
        "print(\"4. Milimetro\")\n",
        "print(\"5. Yarda\")\n",
        "print(\"6. Pie\")\n",
        "print(\"7. pulgada\")\n",
        "print(\"8. Milla\")\n",
        "print(\"9. Milla nautica\")\n",
        "print(\"10. Nanometro\")\n",
        "\n",
        "a = int(input(\"DE: \"))\n",
        "de = int(input(\"A: \"))\n",
        "cantidad = float(input(\"Cantidad: \"))\n",
        "\n",
        "print( menu[a],  \" a \", menu[de], \" La conversion es: \", convertir(de, a, cantidad) )"
      ],
      "metadata": {
        "id": "wSW0GVIo-sIz",
        "outputId": "f2706662-1777-44d6-ba8a-c29fa8ee0fe3",
        "colab": {
          "base_uri": "https://localhost:8080/"
        }
      },
      "execution_count": null,
      "outputs": [
        {
          "output_type": "stream",
          "name": "stdout",
          "text": [
            "SELECCIONE UNA OPCION\n",
            "1. metro\n",
            "2. Kilometro\n",
            "3. centimetros\n",
            "4. Milimetro\n",
            "5. Yarda\n",
            "6. Pie\n",
            "7. pulgada\n",
            "8. Milla\n",
            "9. Milla nautica\n",
            "10. Nanometro\n",
            "DE: 1\n",
            "A: 2\n",
            "Cantidad: 10\n",
            "metro  a  kilometro  La conversion es:  0.01\n"
          ]
        }
      ]
    },
    {
      "cell_type": "markdown",
      "source": [
        "Convertidor de Masa"
      ],
      "metadata": {
        "id": "sbAlt9i1AktZ"
      }
    },
    {
      "cell_type": "code",
      "source": [
        "menu = [\"Seleccione una divisa\", \"Tonelada\", \n",
        "           \"Kilogramo\", \"Gramo\", \"Miligramo\", \n",
        "           \"Microgramo\", \"Tonelada larga\", \"Tonela corta\", \n",
        "           \"Stone\", \"Libra\", 'Onza',\n",
        "\n",
        "]\n",
        "valores = [0,1, 1000, 1e+6, 1e+9, 1e+12, 0.984207, 1.10231, 157.473, 2204.62, 35274 ]\n",
        "def convertir(de, a, cantidad):\n",
        "  return valores [de] / valores [a] * cantidad\n",
        "  print(\"*** MENU ***\")\n",
        "print(\"SELECCIONE UNA OPCION\")\n",
        "print(\"1. Tonelada\")\n",
        "print(\"2. Kilogramo\")\n",
        "print(\"3. Gramo\")\n",
        "print(\"4. Miligramo\")\n",
        "print(\"5. Micrograma\")\n",
        "print(\"6. Tonelada larga\")\n",
        "print(\"7. Tonelada corta\")\n",
        "print(\"8. Stone\")\n",
        "print(\"9. Libra\")\n",
        "print(\"10. Onza\")\n",
        "a = int(input(\"DE: \"))\n",
        "de = int(input(\"A: \"))\n",
        "cantidad = float(input(\"Cantidad: \"))\n",
        "print( menu[a],  \" a \", menu[de], \"La conversion es: \", convertir(de, a, cantidad) )"
      ],
      "metadata": {
        "id": "Uq16ge8LArG_",
        "outputId": "fea6bfa3-0135-46d7-eebe-7a35b4817d23",
        "colab": {
          "base_uri": "https://localhost:8080/"
        }
      },
      "execution_count": null,
      "outputs": [
        {
          "output_type": "stream",
          "name": "stdout",
          "text": [
            "SELECCIONE UNA OPCION\n",
            "1. Tonelada\n",
            "2. Kilogramo\n",
            "3. Gramo\n",
            "4. Miligramo\n",
            "5. Micrograma\n",
            "6. Tonelada larga\n",
            "7. Tonelada corta\n",
            "8. Stone\n",
            "9. Libra\n",
            "10. Onza\n",
            "DE: 1\n",
            "A: 2\n",
            "Cantidad: 10\n",
            "Tonelada  a  Kilogramo La conversion es:  10000.0\n"
          ]
        }
      ]
    },
    {
      "cell_type": "markdown",
      "source": [
        "Conversor de Almacenamiento"
      ],
      "metadata": {
        "id": "xbVejsapDo7v"
      }
    },
    {
      "cell_type": "code",
      "source": [
        "menu = [\"Seleccione una divisa\", \" Terabit\", \n",
        "           \"Mebibit\", \"Gibibit\", \"Gigabit\", \n",
        "           \"tebibit\", \"Petabyte\", \"Mebibyte\", \n",
        "           \"Megabyte\", \"Gigabyte\", 'Terabyte',\n",
        "]\n",
        "valores = [0,1, 953700, 931.3, 1000, 1.1, 8000, 119200, 125000,125,0.125 ]\n",
        "def convertir(de, a, cantidad):\n",
        "  return valores [de] / valores [a] * cantidad\n",
        "  print(\"*** MENU ***\")\n",
        "print(\"SELECCIONE UNA OPCION\")\n",
        "print(\"1. Terabit\")\n",
        "print(\"2. Mebibit\")\n",
        "print(\"3. Gibibit\")\n",
        "print(\"4. Gigabit\")\n",
        "print(\"5. Tebibit\")\n",
        "print(\"6. Petabyte\")\n",
        "print(\"7. Mebibyte\")\n",
        "print(\"8. Megabyte\")\n",
        "print(\"9. Gygabyte\")\n",
        "print(\"10.Terabyte\")\n",
        "a = int(input(\"DE: \"))\n",
        "de = int(input(\"A: \"))\n",
        "cantidad = float(input(\"Cantidad: \"))\n",
        "\n",
        "print( menu[a],  \" a \", menu[de], \"La conversion es: \", convertir(de, a, cantidad) )"
      ],
      "metadata": {
        "id": "asiqvNDyD7GV",
        "outputId": "6a6139b6-1c68-43f8-a66f-8f8c1f25ba22",
        "colab": {
          "base_uri": "https://localhost:8080/"
        }
      },
      "execution_count": null,
      "outputs": [
        {
          "output_type": "stream",
          "name": "stdout",
          "text": [
            "SELECCIONE UNA OPCION\n",
            "1. Terabit\n",
            "2. Mebibit\n",
            "3. Gibibit\n",
            "4. Gigabit\n",
            "5. Tebibit\n",
            "6. Petabyte\n",
            "7. Mebibyte\n",
            "8. Megabyte\n",
            "9. Gygabyte\n",
            "10.Terabyte\n",
            "DE: 1\n",
            "A: 2\n",
            "Cantidad: 10\n",
            " Terabit  a  Mebibit La conversion es:  9537000.0\n"
          ]
        }
      ]
    },
    {
      "cell_type": "markdown",
      "source": [
        "Conversor de Tiempo"
      ],
      "metadata": {
        "id": "jdYVH5hsFqGx"
      }
    },
    {
      "cell_type": "code",
      "source": [
        "menu= [\"Seleccione una divisa\", \" Segundo\", \n",
        "           \"Milisegundo\", \"Minuto\", \"Hora\", \n",
        "           \"Dia\", \"Semana\", \"Mes\", \n",
        "           \"Año\", \"Decada\", 'Siglo',\n",
        "]\n",
        "valores = [0,1, 1000, 0.0166667, 0.000277778,1.1574e-5, 1.6534e-6, 3.8052e-7, 3.171e-8,3.171e-9,3.171e-10 ]\n",
        "def convertir(de, a, cantidad):\n",
        "  return valores [de] / valores [a] * cantidad\n",
        "  print(\"*** MENU ***\")\n",
        "print(\"SELECCIONE UNA OPCION\")\n",
        "print(\"1. Segundo\")\n",
        "print(\"2. Milesegundo\")\n",
        "print(\"3. Minuto\")\n",
        "print(\"4. Hora\")\n",
        "print(\"5. Dia\")\n",
        "print(\"6. Semana\")\n",
        "print(\"7. Mes\")\n",
        "print(\"8. Año\")\n",
        "print(\"9. Decada\")\n",
        "print(\"10.Siglo\")\n",
        "\n",
        "a = int(input(\"DE: \"))\n",
        "de = int(input(\"A: \"))\n",
        "cantidad = float(input(\"Cantidad: \"))\n",
        "\n",
        "print( menu[a],  \" a \",menu[de], \"La conversion es: \", convertir(de, a, cantidad) )"
      ],
      "metadata": {
        "id": "lKs2gP6vFse6",
        "outputId": "410069d0-05dd-470c-aab0-73cfac4d4750",
        "colab": {
          "base_uri": "https://localhost:8080/"
        }
      },
      "execution_count": null,
      "outputs": [
        {
          "output_type": "stream",
          "name": "stdout",
          "text": [
            "SELECCIONE UNA OPCION\n",
            "1. Segundo\n",
            "2. Milesegundo\n",
            "3. Minuto\n",
            "4. Hora\n",
            "5. Dia\n",
            "6. Semana\n",
            "7. Mes\n",
            "8. Año\n",
            "9. Decada\n",
            "10.Siglo\n",
            "DE: 1\n",
            "A: 2\n",
            "Cantidad: 1\n",
            " Segundo  a  Milisegundo La conversion es:  1000.0\n"
          ]
        }
      ]
    },
    {
      "cell_type": "markdown",
      "source": [
        "Conversor de Volumen"
      ],
      "metadata": {
        "id": "j6zfJFu6GVXw"
      }
    },
    {
      "cell_type": "code",
      "source": [
        "menu = [\"Seleccione una divisa\", \"Litro\", \n",
        "           \"Mililitro\", \"Galón\", \"Cuarto\", \n",
        "           \"Pinta\", \"Taza\", \"Onza líquida\", \n",
        "           \"Cucharada\", \"Cucharadita\", 'Pie cúbico',\n",
        "]\n",
        "valores = [0,1, 1000, 0.219969, 0.879877, 1.75975, 3.51951, 35.1951, 56.3121, 168.936, 0.0353147 ]\n",
        "def convertir(de, a, cantidad):\n",
        "  return valores [de] / valores [a] * cantidad\n",
        "  print(\"*** MENU ***\")\n",
        "print(\"SELECCIONE UNA OPCION\")\n",
        "print(\"1. Litro\")\n",
        "print(\"2. Mililitro\")\n",
        "print(\"3. Galón\")\n",
        "print(\"4. Cuarto\")\n",
        "print(\"5. Pinta\")\n",
        "print(\"6. Taza\")\n",
        "print(\"7. Onza liquida\")\n",
        "print(\"8. Cucharada\")\n",
        "print(\"9. Cucharadita\")\n",
        "print(\"10. Pie cúbico\")\n",
        "a = int(input(\"DE: \"))\n",
        "de = int(input(\"A: \"))\n",
        "cantidad = float(input(\"Cantidad: \"))\n",
        "print( menu[a],  \" a \", menu[de], \"La conversion es: \", convertir(de, a, cantidad) )"
      ],
      "metadata": {
        "id": "RXNILdsEJ2CW",
        "outputId": "28b98eaa-9982-42cc-fe3c-cf8571aa351e",
        "colab": {
          "base_uri": "https://localhost:8080/"
        }
      },
      "execution_count": null,
      "outputs": [
        {
          "output_type": "stream",
          "name": "stdout",
          "text": [
            "SELECCIONE UNA OPCION\n",
            "1. Litro\n",
            "2. Mililitro\n",
            "3. Galón\n",
            "4. Cuarto\n",
            "5. Pinta\n",
            "6. Taza\n",
            "7. Onza liquida\n",
            "8. Cucharada\n",
            "9. Cucharadita\n",
            "10. Pie cúbico\n",
            "DE: 1\n",
            "A: 2\n",
            "Cantidad: 10\n",
            "Litro  a  Mililitro La conversion es:  10000.0\n"
          ]
        }
      ]
    },
    {
      "cell_type": "markdown",
      "source": [
        "Convertidor de Area"
      ],
      "metadata": {
        "id": "jQIvhPZOKEGl"
      }
    },
    {
      "cell_type": "code",
      "source": [
        "menu = [\"Seleccione una divisa\", \"Hectarea\", \n",
        "           \"Kilometro cuadrado\", \"Metro Cuadrado\", \"Milla cuadrada\", \n",
        "           \"Yarda cuadrada\", \"Pie cuadrado\", \"Pulgada cuadrada\", \n",
        "           \"Acre\",\"Hectometro Cuadrado\",\"Decametro Cuadrado\",\n",
        "]\n",
        "valores = [0,1, 0.01, 10000, 0.00386102, 11959.9, 107639, 1.55e+7, 2.47105,0.01,0.0001  ]\n",
        "def convertir(de, a, cantidad):\n",
        "  return valores [de] / valores [a] * cantidad\n",
        "  print(\"*** MENU ***\")\n",
        "print(\"SELECCIONE UNA OPCION\")\n",
        "print(\"1. Hectarea\")\n",
        "print(\"2. Kilometro cuadrado\")\n",
        "print(\"3. Metro cuadrado\")\n",
        "print(\"4. Milla cuadrada\")\n",
        "print(\"5. Yarda cuadrada\")\n",
        "print(\"6. Pie cuadrado\")\n",
        "print(\"7. Pulgada cuadrada\")\n",
        "print(\"8. Acre\")\n",
        "print(\"9. Hectometro Cuadrado\")\n",
        "print(\"10. Decametro Cuadrado\")\n",
        "\n",
        "a = int(input(\"DE: \"))\n",
        "de = int(input(\"A: \"))\n",
        "cantidad = float(input(\"Cantidad: \"))\n",
        "print( menu[a],  \" a \", menu[de], \"La conversion es: \", convertir(de, a, cantidad) )"
      ],
      "metadata": {
        "id": "I7jSoo25KH2S",
        "outputId": "c117b5fb-d142-49aa-93d8-3e9ea7bbc9d2",
        "colab": {
          "base_uri": "https://localhost:8080/"
        }
      },
      "execution_count": null,
      "outputs": [
        {
          "output_type": "stream",
          "name": "stdout",
          "text": [
            "SELECCIONE UNA OPCION\n",
            "1. Hectarea\n",
            "2. Kilometro cuadrado\n",
            "3. Metro cuadrado\n",
            "4. Milla cuadrada\n",
            "5. Yarda cuadrada\n",
            "6. Pie cuadrado\n",
            "7. Pulgada cuadrada\n",
            "8. Acre\n",
            "9. Hectometro Cuadrado\n",
            "10. Decametro Cuadrado\n",
            "DE: 1\n",
            "A: 1\n",
            "Cantidad: 1\n",
            "Hectarea  a  Hectarea La conversion es:  1.0\n"
          ]
        }
      ]
    }
  ],
  "metadata": {
    "colab": {
      "collapsed_sections": [],
      "name": "Te damos la bienvenida a Colaboratory",
      "toc_visible": true,
      "provenance": [],
      "include_colab_link": true
    },
    "kernelspec": {
      "display_name": "Python 3",
      "name": "python3"
    }
  },
  "nbformat": 4,
  "nbformat_minor": 0
}